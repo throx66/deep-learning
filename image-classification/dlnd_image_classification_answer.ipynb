{
 "cells": [
  {
   "cell_type": "markdown",
   "metadata": {
    "collapsed": true,
    "deletable": true,
    "editable": true
   },
   "source": [
    "# Image Classification\n",
    "In this project, you'll classify images from the [CIFAR-10 dataset](https://www.cs.toronto.edu/~kriz/cifar.html).  The dataset consists of airplanes, dogs, cats, and other objects. You'll preprocess the images, then train a convolutional neural network on all the samples. The images need to be normalized and the labels need to be one-hot encoded.  You'll get to apply what you learned and build a convolutional, max pooling, dropout, and fully connected layers.  At the end, you'll get to see your neural network's predictions on the sample images.\n",
    "## Get the Data\n",
    "Run the following cell to download the [CIFAR-10 dataset for python](https://www.cs.toronto.edu/~kriz/cifar-10-python.tar.gz)."
   ]
  },
  {
   "cell_type": "code",
   "execution_count": 1,
   "metadata": {
    "collapsed": false,
    "deletable": true,
    "editable": true
   },
   "outputs": [
    {
     "name": "stdout",
     "output_type": "stream",
     "text": [
      "All files found!\n"
     ]
    }
   ],
   "source": [
    "\"\"\"\n",
    "DON'T MODIFY ANYTHING IN THIS CELL THAT IS BELOW THIS LINE\n",
    "\"\"\"\n",
    "from urllib.request import urlretrieve\n",
    "from os.path import isfile, isdir\n",
    "from tqdm import tqdm\n",
    "import problem_unittests as tests\n",
    "import tarfile\n",
    "\n",
    "cifar10_dataset_folder_path = 'cifar-10-batches-py'\n",
    "\n",
    "class DLProgress(tqdm):\n",
    "    last_block = 0\n",
    "\n",
    "    def hook(self, block_num=1, block_size=1, total_size=None):\n",
    "        self.total = total_size\n",
    "        self.update((block_num - self.last_block) * block_size)\n",
    "        self.last_block = block_num\n",
    "\n",
    "if not isfile('cifar-10-python.tar.gz'):\n",
    "    with DLProgress(unit='B', unit_scale=True, miniters=1, desc='CIFAR-10 Dataset') as pbar:\n",
    "        urlretrieve(\n",
    "            'https://www.cs.toronto.edu/~kriz/cifar-10-python.tar.gz',\n",
    "            'cifar-10-python.tar.gz',\n",
    "            pbar.hook)\n",
    "\n",
    "if not isdir(cifar10_dataset_folder_path):\n",
    "    with tarfile.open('cifar-10-python.tar.gz') as tar:\n",
    "        tar.extractall()\n",
    "        tar.close()\n",
    "\n",
    "\n",
    "tests.test_folder_path(cifar10_dataset_folder_path)"
   ]
  },
  {
   "cell_type": "markdown",
   "metadata": {
    "deletable": true,
    "editable": true
   },
   "source": [
    "## Explore the Data\n",
    "The dataset is broken into batches to prevent your machine from running out of memory.  The CIFAR-10 dataset consists of 5 batches, named `data_batch_1`, `data_batch_2`, etc.. Each batch contains the labels and images that are one of the following:\n",
    "* airplane\n",
    "* automobile\n",
    "* bird\n",
    "* cat\n",
    "* deer\n",
    "* dog\n",
    "* frog\n",
    "* horse\n",
    "* ship\n",
    "* truck\n",
    "\n",
    "Understanding a dataset is part of making predictions on the data.  Play around with the code cell below by changing the `batch_id` and `sample_id`. The `batch_id` is the id for a batch (1-5). The `sample_id` is the id for a image and label pair in the batch.\n",
    "\n",
    "Ask yourself \"What are all possible labels?\", \"What is the range of values for the image data?\", \"Are the labels in order or random?\".  Answers to questions like these will help you preprocess the data and end up with better predictions."
   ]
  },
  {
   "cell_type": "code",
   "execution_count": 2,
   "metadata": {
    "collapsed": false,
    "deletable": true,
    "editable": true
   },
   "outputs": [
    {
     "name": "stdout",
     "output_type": "stream",
     "text": [
      "\n",
      "Stats of batch 4:\n",
      "Samples: 10000\n",
      "Label Counts: {0: 1003, 1: 963, 2: 1041, 3: 976, 4: 1004, 5: 1021, 6: 1004, 7: 981, 8: 1024, 9: 983}\n",
      "First 20 Labels: [0, 6, 0, 2, 7, 2, 1, 2, 4, 1, 5, 6, 6, 3, 1, 3, 5, 5, 8, 1]\n",
      "\n",
      "Example of Image 2:\n",
      "Image - Min Value: 2 Max Value: 204\n",
      "Image - Shape: (32, 32, 3)\n",
      "Label - Label Id: 0 Name: airplane\n"
     ]
    },
    {
     "data": {
      "image/png": "[encoded data removed]",
      "text/plain": [
       "<matplotlib.figure.Figure at 0x1122db208>"
      ]
     },
     "metadata": {
      "image/png": {
       "height": 250,
       "width": 253
      }
     },
     "output_type": "display_data"
    }
   ],
   "source": [
    "%matplotlib inline\n",
    "%config InlineBackend.figure_format = 'retina'\n",
    "\n",
    "import helper\n",
    "import numpy as np\n",
    "\n",
    "# Explore the dataset\n",
    "batch_id = 4\n",
    "sample_id = 2\n",
    "helper.display_stats(cifar10_dataset_folder_path, batch_id, sample_id)"
   ]
  },
  {
   "cell_type": "markdown",
   "metadata": {
    "deletable": true,
    "editable": true
   },
   "source": [
    "## Implement Preprocess Functions\n",
    "### Normalize\n",
    "In the cell below, implement the `normalize` function to take in image data, `x`, and return it as a normalized Numpy array. The values should be in the range of 0 to 1, inclusive.  The return object should be the same shape as `x`."
   ]
  },
  {
   "cell_type": "code",
   "execution_count": 3,
   "metadata": {
    "collapsed": false,
    "deletable": true,
    "editable": true
   },
   "outputs": [
    {
     "name": "stdout",
     "output_type": "stream",
     "text": [
      "Tests Passed\n"
     ]
    }
   ],
   "source": [
    "def normalize(x):\n",
    "    \"\"\"\n",
    "    Normalize a list of sample image data in the range of 0 to 1\n",
    "    : x: List of image data.  The image shape is (32, 32, 3)\n",
    "    : return: Numpy array of normalize data\n",
    "    \"\"\"\n",
    "    # TODO: Implement Function\n",
    "    output = np.ndarray(shape=x.shape, dtype=float) # Do NOT save in X directly, wrong datatype *lessons learned*\n",
    "\n",
    "    for i in range(x.shape[0]):\n",
    "        output[i,:,:,:] = x[i,:,:,:] /float(255)\n",
    "    return output\n",
    "\n",
    "\"\"\"\n",
    "DON'T MODIFY ANYTHING IN THIS CELL THAT IS BELOW THIS LINE\n",
    "\"\"\"\n",
    "tests.test_normalize(normalize)"
   ]
  },
  {
   "cell_type": "markdown",
   "metadata": {
    "deletable": true,
    "editable": true
   },
   "source": [
    "### One-hot encode\n",
    "Just like the previous code cell, you'll be implementing a function for preprocessing.  This time, you'll implement the `one_hot_encode` function. The input, `x`, are a list of labels.  Implement the function to return the list of labels as One-Hot encoded Numpy array.  The possible values for labels are 0 to 9. The one-hot encoding function should return the same encoding for each value between each call to `one_hot_encode`.  Make sure to save the map of encodings outside the function.\n",
    "\n",
    "Hint: Don't reinvent the wheel."
   ]
  },
  {
   "cell_type": "code",
   "execution_count": 4,
   "metadata": {
    "collapsed": false,
    "deletable": true,
    "editable": true
   },
   "outputs": [
    {
     "name": "stdout",
     "output_type": "stream",
     "text": [
      "Tests Passed\n"
     ]
    }
   ],
   "source": [
    "def one_hot_encode(x):\n",
    "    \"\"\"\n",
    "    One hot encode a list of sample labels. Return a one-hot encoded vector for each label.\n",
    "    : x: List of sample Labels\n",
    "    : return: Numpy array of one-hot encoded labels\n",
    "    \"\"\"\n",
    "    # TODO: Implement Function\n",
    "    number_of_classes = 10\n",
    "    number_of_labels = len(x)\n",
    "    one_hot_encode = np.zeros((number_of_labels, number_of_classes), dtype=np.int)\n",
    "    for i in range(number_of_labels):\n",
    "        one_hot_encode[i, x[i]] = 1\n",
    "    return one_hot_encode\n",
    "    \n",
    "    #Other solution?\n",
    "    #from sklearn import preprocessing\n",
    "    #labels = ['airplane', 'automobile', 'bird', 'cat', 'deer', 'dog', 'frog', 'horse', 'ship', 'truck']\n",
    "    #label_encoder = preprocessing.LabelEncoder()\n",
    "    #label_binarizer = preprocessing.LabelBinarizer()\n",
    "    #encoded_labels = label_encoder.fit_transform(labels)\n",
    "    #label_binarizer.fit(encoded_labels)\n",
    "    #return(label_binarizer.transform(x))\n",
    "    \n",
    "\n",
    "\"\"\"\n",
    "DON'T MODIFY ANYTHING IN THIS CELL THAT IS BELOW THIS LINE\n",
    "\"\"\"\n",
    "tests.test_one_hot_encode(one_hot_encode)"
   ]
  },
  {
   "cell_type": "markdown",
   "metadata": {
    "deletable": true,
    "editable": true
   },
   "source": [
    "### Randomize Data\n",
    "As you saw from exploring the data above, the order of the samples are randomized.  It doesn't hurt to randomize it again, but you don't need to for this dataset."
   ]
  },
  {
   "cell_type": "markdown",
   "metadata": {
    "deletable": true,
    "editable": true
   },
   "source": [
    "## Preprocess all the data and save it\n",
    "Running the code cell below will preprocess all the CIFAR-10 data and save it to file. The code below also uses 10% of the training data for validation."
   ]
  },
  {
   "cell_type": "code",
   "execution_count": 5,
   "metadata": {
    "collapsed": false,
    "deletable": true,
    "editable": true
   },
   "outputs": [],
   "source": [
    "\"\"\"\n",
    "DON'T MODIFY ANYTHING IN THIS CELL\n",
    "\"\"\"\n",
    "# Preprocess Training, Validation, and Testing Data\n",
    "helper.preprocess_and_save_data(cifar10_dataset_folder_path, normalize, one_hot_encode)"
   ]
  },
  {
   "cell_type": "markdown",
   "metadata": {
    "deletable": true,
    "editable": true
   },
   "source": [
    "# Check Point\n",
    "This is your first checkpoint.  If you ever decide to come back to this notebook or have to restart the notebook, you can start from here.  The preprocessed data has been saved to disk."
   ]
  },
  {
   "cell_type": "code",
   "execution_count": 6,
   "metadata": {
    "collapsed": true,
    "deletable": true,
    "editable": true
   },
   "outputs": [],
   "source": [
    "\"\"\"\n",
    "DON'T MODIFY ANYTHING IN THIS CELL\n",
    "\"\"\"\n",
    "import pickle\n",
    "import problem_unittests as tests\n",
    "import helper\n",
    "\n",
    "# Load the Preprocessed Validation data\n",
    "valid_features, valid_labels = pickle.load(open('preprocess_validation.p', mode='rb'))"
   ]
  },
  {
   "cell_type": "markdown",
   "metadata": {
    "deletable": true,
    "editable": true
   },
   "source": [
    "## Build the network\n",
    "For the neural network, you'll build each layer into a function.  Most of the code you've seen has been outside of functions. To test your code more thoroughly, we require that you put each layer in a function.  This allows us to give you better feedback and test for simple mistakes using our unittests before you submit your project.\n",
    "\n",
    ">**Note:** If you're finding it hard to dedicate enough time for this course each week, we've provided a small shortcut to this part of the project. In the next couple of problems, you'll have the option to use classes from the [TensorFlow Layers](https://www.tensorflow.org/api_docs/python/tf/layers) or [TensorFlow Layers (contrib)](https://www.tensorflow.org/api_guides/python/contrib.layers) packages to build each layer, except the layers you build in the \"Convolutional and Max Pooling Layer\" section.  TF Layers is similar to Keras's and TFLearn's abstraction to layers, so it's easy to pickup.\n",
    "\n",
    ">However, if you would like to get the most out of this course, try to solve all the problems _without_ using anything from the TF Layers packages. You **can** still use classes from other packages that happen to have the same name as ones you find in TF Layers! For example, instead of using the TF Layers version of the `conv2d` class, [tf.layers.conv2d](https://www.tensorflow.org/api_docs/python/tf/layers/conv2d), you would want to use the TF Neural Network version of `conv2d`, [tf.nn.conv2d](https://www.tensorflow.org/api_docs/python/tf/nn/conv2d). \n",
    "\n",
    "Let's begin!\n",
    "\n",
    "### Input\n",
    "The neural network needs to read the image data, one-hot encoded labels, and dropout keep probability. Implement the following functions\n",
    "* Implement `neural_net_image_input`\n",
    " * Return a [TF Placeholder](https://www.tensorflow.org/api_docs/python/tf/placeholder)\n",
    " * Set the shape using `image_shape` with batch size set to `None`.\n",
    " * Name the TensorFlow placeholder \"x\" using the TensorFlow `name` parameter in the [TF Placeholder](https://www.tensorflow.org/api_docs/python/tf/placeholder).\n",
    "* Implement `neural_net_label_input`\n",
    " * Return a [TF Placeholder](https://www.tensorflow.org/api_docs/python/tf/placeholder)\n",
    " * Set the shape using `n_classes` with batch size set to `None`.\n",
    " * Name the TensorFlow placeholder \"y\" using the TensorFlow `name` parameter in the [TF Placeholder](https://www.tensorflow.org/api_docs/python/tf/placeholder).\n",
    "* Implement `neural_net_keep_prob_input`\n",
    " * Return a [TF Placeholder](https://www.tensorflow.org/api_docs/python/tf/placeholder) for dropout keep probability.\n",
    " * Name the TensorFlow placeholder \"keep_prob\" using the TensorFlow `name` parameter in the [TF Placeholder](https://www.tensorflow.org/api_docs/python/tf/placeholder).\n",
    "\n",
    "These names will be used at the end of the project to load your saved model.\n",
    "\n",
    "Note: `None` for shapes in TensorFlow allow for a dynamic size."
   ]
  },
  {
   "cell_type": "code",
   "execution_count": 7,
   "metadata": {
    "collapsed": false,
    "deletable": true,
    "editable": true
   },
   "outputs": [
    {
     "name": "stdout",
     "output_type": "stream",
     "text": [
      "Image Input Tests Passed.\n",
      "Label Input Tests Passed.\n",
      "Keep Prob Tests Passed.\n"
     ]
    }
   ],
   "source": [
    "import tensorflow as tf\n",
    "\n",
    "def neural_net_image_input(image_shape):\n",
    "    \"\"\"\n",
    "    Return a Tensor for a bach of image input\n",
    "    : image_shape: Shape of the images\n",
    "    : return: Tensor for image input.\n",
    "    \"\"\"\n",
    "    # TODO: Implement Function\n",
    "    x = tf.placeholder(tf.float32, shape=[None, image_shape[0], image_shape[1], image_shape[2]], name='x')\n",
    "    return x\n",
    "\n",
    "\n",
    "def neural_net_label_input(n_classes):\n",
    "    \"\"\"\n",
    "    Return a Tensor for a batch of label input\n",
    "    : n_classes: Number of classes\n",
    "    : return: Tensor for label input.\n",
    "    \"\"\"\n",
    "    # TODO: Implement Function\n",
    "    y = tf.placeholder(tf.float32, shape = [None, n_classes], name='y')\n",
    "    return y\n",
    "\n",
    "\n",
    "def neural_net_keep_prob_input():\n",
    "    \"\"\"\n",
    "    Return a Tensor for keep probability\n",
    "    : return: Tensor for keep probability.\n",
    "    \"\"\"\n",
    "    # TODO: Implement Function\n",
    "    keep_prob = tf.placeholder(tf.float32, name='keep_prob')\n",
    "    return keep_prob\n",
    "\n",
    "\n",
    "\"\"\"\n",
    "DON'T MODIFY ANYTHING IN THIS CELL THAT IS BELOW THIS LINE\n",
    "\"\"\"\n",
    "tf.reset_default_graph()\n",
    "tests.test_nn_image_inputs(neural_net_image_input)\n",
    "tests.test_nn_label_inputs(neural_net_label_input)\n",
    "tests.test_nn_keep_prob_inputs(neural_net_keep_prob_input)"
   ]
  },
  {
   "cell_type": "markdown",
   "metadata": {
    "deletable": true,
    "editable": true
   },
   "source": [
    "### Convolution and Max Pooling Layer\n",
    "Convolution layers have a lot of success with images. For this code cell, you should implement the function `conv2d_maxpool` to apply convolution then max pooling:\n",
    "* Create the weight and bias using `conv_ksize`, `conv_num_outputs` and the shape of `x_tensor`.\n",
    "* Apply a convolution to `x_tensor` using weight and `conv_strides`.\n",
    " * We recommend you use same padding, but you're welcome to use any padding.\n",
    "* Add bias\n",
    "* Add a nonlinear activation to the convolution.\n",
    "* Apply Max Pooling using `pool_ksize` and `pool_strides`.\n",
    " * We recommend you use same padding, but you're welcome to use any padding.\n",
    "\n",
    "**Note:** You **can't** use [TensorFlow Layers](https://www.tensorflow.org/api_docs/python/tf/layers) or [TensorFlow Layers (contrib)](https://www.tensorflow.org/api_guides/python/contrib.layers) for **this** layer, but you can still use TensorFlow's [Neural Network](https://www.tensorflow.org/api_docs/python/tf/nn) package. You may still use the shortcut option for all the **other** layers."
   ]
  },
  {
   "cell_type": "code",
   "execution_count": 8,
   "metadata": {
    "collapsed": false,
    "deletable": true,
    "editable": true
   },
   "outputs": [
    {
     "name": "stdout",
     "output_type": "stream",
     "text": [
      "Tests Passed\n"
     ]
    }
   ],
   "source": [
    "def conv2d_maxpool(x_tensor, conv_num_outputs, conv_ksize, conv_strides, pool_ksize, pool_strides):\n",
    "    \"\"\"\n",
    "    Apply convolution then max pooling to x_tensor\n",
    "    :param x_tensor: TensorFlow Tensor\n",
    "    :param conv_num_outputs: Number of outputs for the convolutional layer\n",
    "    :param conv_ksize: kernal size 2-D Tuple for the convolutional layer\n",
    "    :param conv_strides: Stride 2-D Tuple for convolution\n",
    "    :param pool_ksize: kernal size 2-D Tuple for pool\n",
    "    :param pool_strides: Stride 2-D Tuple for pool\n",
    "    : return: A tensor that represents convolution and max pooling of x_tensor\n",
    "    \"\"\"\n",
    "    # Var prep\n",
    "    datasize = x_tensor.get_shape().as_list()[0] # if I use it, test fails\n",
    "    channels = x_tensor.get_shape().as_list()[3]\n",
    "    \n",
    "    conv_weights = tf.Variable(tf.truncated_normal([conv_ksize[0],\n",
    "                                                    conv_ksize[1],\n",
    "                                                    channels,\n",
    "                                                    conv_num_outputs],\n",
    "                                                   mean=0.0,\n",
    "                                                   stddev=0.05, \n",
    "                                                   dtype=tf.float32))\n",
    "    bias = tf.Variable(tf.zeros([conv_num_outputs]))\n",
    "    padding = 'SAME'\n",
    "    convu_strides2 = [1, conv_strides[0], conv_strides[1], 1] # batch, height, width, depth\n",
    "    pooling_strides = [1, pool_strides[0], pool_strides[1], 1]\n",
    "        \n",
    "    # Layers\n",
    "    conv = tf.nn.conv2d(x_tensor, conv_weights, convu_strides2, padding)\n",
    "    conv = tf.nn.bias_add(conv, bias)\n",
    "    relu = tf.nn.relu(conv)\n",
    "    pooling = tf.nn.max_pool(relu, [1, pool_ksize[0], pool_ksize[1], 1], pooling_strides, padding)\n",
    "    return pooling\n",
    "\n",
    "    #DO NOT USE THIS IMPLEMENTATION, BUT FOR DEBUGGING OKAY ;)\n",
    "    #conv2 = tf.layers.conv2d(x_tensor,\n",
    "    #                         conv_num_outputs,\n",
    "    #                         conv_ksize,\n",
    "    #                         conv_strides,\n",
    "    #                         padding='SAME',\n",
    "    #                         data_format='channels_last',\n",
    "    #                         dilation_rate=(1, 1),\n",
    "    #                         activation=tf.nn.relu,\n",
    "    #                         use_bias=True,\n",
    "    #                         kernel_initializer=None,\n",
    "    #                         bias_initializer=tf.zeros_initializer(),\n",
    "    #                         kernel_regularizer=None,\n",
    "    #                         bias_regularizer=None,\n",
    "    #                         activity_regularizer=None,\n",
    "    #                         trainable=True,\n",
    "    #                         name=None,\n",
    "    #                         reuse=None)\n",
    "    #pooling2 = tf.layers.max_pooling2d(conv2,\n",
    "    #                                   pool_ksize,\n",
    "    #                                   pool_strides,\n",
    "    #                                   padding='SAME',\n",
    "    #                                   data_format='channels_last',\n",
    "    #                                   name=None)\n",
    "    #return pooling2\n",
    "\n",
    "\"\"\"\n",
    "DON'T MODIFY ANYTHING IN THIS CELL THAT IS BELOW THIS LINE\n",
    "\"\"\"\n",
    "tests.test_con_pool(conv2d_maxpool)"
   ]
  },
  {
   "cell_type": "markdown",
   "metadata": {
    "deletable": true,
    "editable": true
   },
   "source": [
    "### Flatten Layer\n",
    "Implement the `flatten` function to change the dimension of `x_tensor` from a 4-D tensor to a 2-D tensor.  The output should be the shape (*Batch Size*, *Flattened Image Size*). Shortcut option: you can use classes from the [TensorFlow Layers](https://www.tensorflow.org/api_docs/python/tf/layers) or [TensorFlow Layers (contrib)](https://www.tensorflow.org/api_guides/python/contrib.layers) packages for this layer. For more of a challenge, only use other TensorFlow packages."
   ]
  },
  {
   "cell_type": "code",
   "execution_count": 9,
   "metadata": {
    "collapsed": false,
    "deletable": true,
    "editable": true
   },
   "outputs": [
    {
     "name": "stdout",
     "output_type": "stream",
     "text": [
      "Tests Passed\n"
     ]
    }
   ],
   "source": [
    "def flatten(x_tensor):\n",
    "    \"\"\"\n",
    "    Flatten x_tensor to (Batch Size, Flattened Image Size)\n",
    "    : x_tensor: A tensor of size (Batch Size, ...), where ... are the image dimensions.\n",
    "    : return: A tensor of size (Batch Size, Flattened Image Size).\n",
    "    \"\"\"\n",
    "    # TODO: Implement Function\n",
    "    shape = x_tensor.get_shape().as_list()\n",
    "    dim = np.prod(shape[1:])\n",
    "    return tf.reshape(x_tensor, [-1, dim])\n",
    "    #return tf.contrib.layers.flatten(x_tensor)\n",
    "\"\"\"\n",
    "DON'T MODIFY ANYTHING IN THIS CELL THAT IS BELOW THIS LINE\n",
    "\"\"\"\n",
    "tests.test_flatten(flatten)"
   ]
  },
  {
   "cell_type": "markdown",
   "metadata": {
    "deletable": true,
    "editable": true
   },
   "source": [
    "### Fully-Connected Layer\n",
    "Implement the `fully_conn` function to apply a fully connected layer to `x_tensor` with the shape (*Batch Size*, *num_outputs*). Shortcut option: you can use classes from the [TensorFlow Layers](https://www.tensorflow.org/api_docs/python/tf/layers) or [TensorFlow Layers (contrib)](https://www.tensorflow.org/api_guides/python/contrib.layers) packages for this layer. For more of a challenge, only use other TensorFlow packages."
   ]
  },
  {
   "cell_type": "code",
   "execution_count": 10,
   "metadata": {
    "collapsed": false,
    "deletable": true,
    "editable": true
   },
   "outputs": [
    {
     "name": "stdout",
     "output_type": "stream",
     "text": [
      "Tests Passed\n"
     ]
    }
   ],
   "source": [
    "def fully_conn(x_tensor, num_outputs):\n",
    "    \"\"\"\n",
    "    Apply a fully connected layer to x_tensor using weight and bias\n",
    "    : x_tensor: A 2-D tensor where the first dimension is batch size.\n",
    "    : num_outputs: The number of output that the new tensor should be.\n",
    "    : return: A 2-D tensor where the second dimension is num_outputs.\n",
    "    \"\"\"\n",
    "    # Variables\n",
    "    datasize = x_tensor.get_shape().as_list()[1]\n",
    "    weights = tf.Variable(tf.truncated_normal([datasize, num_outputs], mean=0.0, stddev=0.05))\n",
    "    bias = tf.Variable(tf.zeros(num_outputs))\n",
    "    \n",
    "    #Calc\n",
    "    fc = tf.add(tf.matmul(x_tensor, weights), bias)\n",
    "    return tf.nn.relu(fc)\n",
    "    #return tf.contrib.layers.fully_connected(x_tensor, num_outputs, activation_fn=tf.nn.relu)\n",
    "\n",
    "\"\"\"\n",
    "DON'T MODIFY ANYTHING IN THIS CELL THAT IS BELOW THIS LINE\n",
    "\"\"\"\n",
    "tests.test_fully_conn(fully_conn)"
   ]
  },
  {
   "cell_type": "markdown",
   "metadata": {
    "deletable": true,
    "editable": true
   },
   "source": [
    "### Output Layer\n",
    "Implement the `output` function to apply a fully connected layer to `x_tensor` with the shape (*Batch Size*, *num_outputs*). Shortcut option: you can use classes from the [TensorFlow Layers](https://www.tensorflow.org/api_docs/python/tf/layers) or [TensorFlow Layers (contrib)](https://www.tensorflow.org/api_guides/python/contrib.layers) packages for this layer. For more of a challenge, only use other TensorFlow packages.\n",
    "\n",
    "**Note:** Activation, softmax, or cross entropy should **not** be applied to this."
   ]
  },
  {
   "cell_type": "code",
   "execution_count": 11,
   "metadata": {
    "collapsed": false,
    "deletable": true,
    "editable": true
   },
   "outputs": [
    {
     "name": "stdout",
     "output_type": "stream",
     "text": [
      "Tests Passed\n"
     ]
    }
   ],
   "source": [
    "def output(x_tensor, num_outputs):\n",
    "    \"\"\"\n",
    "    Apply a output layer to x_tensor using weight and bias\n",
    "    : x_tensor: A 2-D tensor where the first dimension is batch size.\n",
    "    : num_outputs: The number of output that the new tensor should be.\n",
    "    : return: A 2-D tensor where the second dimension is num_outputs.\n",
    "    \"\"\"\n",
    "    # Variables\n",
    "    datasize = x_tensor.get_shape().as_list()[1]\n",
    "    weights = tf.Variable(tf.truncated_normal([datasize, num_outputs], mean=0.0, stddev=0.05))\n",
    "    bias = tf.Variable(tf.zeros(num_outputs))\n",
    "    \n",
    "    #Calc\n",
    "    fc = tf.add(tf.matmul(x_tensor, weights), bias)\n",
    "    return fc\n",
    "    #return tf.contrib.layers.fully_connected(x_tensor, num_outputs, activation_fn=None)\n",
    "\n",
    "\"\"\"\n",
    "DON'T MODIFY ANYTHING IN THIS CELL THAT IS BELOW THIS LINE\n",
    "\"\"\"\n",
    "tests.test_output(output)"
   ]
  },
  {
   "cell_type": "markdown",
   "metadata": {
    "deletable": true,
    "editable": true
   },
   "source": [
    "### Create Convolutional Model\n",
    "Implement the function `conv_net` to create a convolutional neural network model. The function takes in a batch of images, `x`, and outputs logits.  Use the layers you created above to create this model:\n",
    "\n",
    "* Apply 1, 2, or 3 Convolution and Max Pool layers\n",
    "* Apply a Flatten Layer\n",
    "* Apply 1, 2, or 3 Fully Connected Layers\n",
    "* Apply an Output Layer\n",
    "* Return the output\n",
    "* Apply [TensorFlow's Dropout](https://www.tensorflow.org/api_docs/python/tf/nn/dropout) to one or more layers in the model using `keep_prob`. "
   ]
  },
  {
   "cell_type": "code",
   "execution_count": 12,
   "metadata": {
    "collapsed": false,
    "deletable": true,
    "editable": true
   },
   "outputs": [
    {
     "name": "stdout",
     "output_type": "stream",
     "text": [
      "Neural Network Built!\n"
     ]
    }
   ],
   "source": [
    "def conv_net(x, keep_prob):\n",
    "    \"\"\"\n",
    "    Create a convolutional neural network model\n",
    "    : x: Placeholder tensor that holds image data.\n",
    "    : keep_prob: Placeholder tensor that hold dropout keep probability.\n",
    "    : return: Tensor that represents logits\n",
    "    \"\"\"\n",
    "    \n",
    "    #Variables\n",
    "    pool_ksize = (2, 2)\n",
    "    pool_strides = (2, 2)\n",
    "    \n",
    "    conv1_num_outputs = 32\n",
    "    conv1_ksize = (3, 3)\n",
    "    conv1_strides = (1, 1)\n",
    "        \n",
    "    conv2_num_outputs = 64\n",
    "    conv2_ksize = (3, 3)\n",
    "    conv2_strides = (1, 1)\n",
    "    \n",
    "    conv3_num_outputs = 40\n",
    "    conv3_ksize = (5, 5)\n",
    "    conv3_strides = (1, 1)\n",
    "    \n",
    "    num_classes = 10\n",
    "    \n",
    "    \n",
    "    # TODO: Apply 1, 2, or 3 Convolution and Max Pool layers\n",
    "    #    Play around with different number of outputs, kernel size and stride\n",
    "    # Function Definition from Above:\n",
    "    #    conv2d_maxpool(x_tensor, conv_num_outputs, conv_ksize, conv_strides, pool_ksize, pool_strides)\n",
    "\n",
    "    conv1 = conv2d_maxpool(x, conv1_num_outputs, conv1_ksize, conv1_strides, pool_ksize, pool_strides)\n",
    "    conv2 = conv2d_maxpool(conv1, conv2_num_outputs, conv2_ksize, conv2_strides, pool_ksize, pool_strides)\n",
    "    #conv3 = conv2d_maxpool(conv2, conv3_num_outputs, conv3_ksize, conv3_strides, pool_ksize, pool_strides)\n",
    "    \n",
    "    # TODO: Apply a Flatten Layer\n",
    "    # Function Definition from Above:\n",
    "    #   flatten(x_tensor)\n",
    "    flattened = flatten(conv2)    \n",
    "\n",
    "    # TODO: Apply 1, 2, or 3 Fully Connected Layers\n",
    "    #    Play around with different number of outputs\n",
    "    # Function Definition from Above:\n",
    "    #   fully_conn(x_tensor, num_outputs)\n",
    "    fc1 = fully_conn(flattened, 64)\n",
    "    fc1 = tf.nn.dropout(fc1, keep_prob)\n",
    "    fc2 = fully_conn(flattened, 32)\n",
    "    fc2 = tf.nn.dropout(fc1, keep_prob)\n",
    "    \n",
    "    # TODO: Apply an Output Layer\n",
    "    #    Set this to the number of classes\n",
    "    # Function Definition from Above:\n",
    "    #   output(x_tensor, num_outputs)\n",
    "    output = fully_conn(fc2, num_classes)\n",
    "    \n",
    "    # TODO: return output\n",
    "    return output\n",
    "\n",
    "\n",
    "\"\"\"\n",
    "DON'T MODIFY ANYTHING IN THIS CELL THAT IS BELOW THIS LINE\n",
    "\"\"\"\n",
    "\n",
    "##############################\n",
    "## Build the Neural Network ##\n",
    "##############################\n",
    "\n",
    "# Remove previous weights, bias, inputs, etc..\n",
    "tf.reset_default_graph()\n",
    "\n",
    "# Inputs\n",
    "x = neural_net_image_input((32, 32, 3))\n",
    "y = neural_net_label_input(10)\n",
    "keep_prob = neural_net_keep_prob_input()\n",
    "\n",
    "# Model\n",
    "logits = conv_net(x, keep_prob)\n",
    "\n",
    "# Name logits Tensor, so that is can be loaded from disk after training\n",
    "logits = tf.identity(logits, name='logits')\n",
    "\n",
    "# Loss and Optimizer\n",
    "cost = tf.reduce_mean(tf.nn.softmax_cross_entropy_with_logits(logits=logits, labels=y))\n",
    "optimizer = tf.train.AdamOptimizer().minimize(cost)\n",
    "\n",
    "# Accuracy\n",
    "correct_pred = tf.equal(tf.argmax(logits, 1), tf.argmax(y, 1))\n",
    "accuracy = tf.reduce_mean(tf.cast(correct_pred, tf.float32), name='accuracy')\n",
    "\n",
    "tests.test_conv_net(conv_net)"
   ]
  },
  {
   "cell_type": "markdown",
   "metadata": {
    "deletable": true,
    "editable": true
   },
   "source": [
    "## Train the Neural Network\n",
    "### Single Optimization\n",
    "Implement the function `train_neural_network` to do a single optimization.  The optimization should use `optimizer` to optimize in `session` with a `feed_dict` of the following:\n",
    "* `x` for image input\n",
    "* `y` for labels\n",
    "* `keep_prob` for keep probability for dropout\n",
    "\n",
    "This function will be called for each batch, so `tf.global_variables_initializer()` has already been called.\n",
    "\n",
    "Note: Nothing needs to be returned. This function is only optimizing the neural network."
   ]
  },
  {
   "cell_type": "code",
   "execution_count": 13,
   "metadata": {
    "collapsed": false,
    "deletable": true,
    "editable": true
   },
   "outputs": [
    {
     "name": "stdout",
     "output_type": "stream",
     "text": [
      "Tests Passed\n"
     ]
    }
   ],
   "source": [
    "def train_neural_network(session, optimizer, keep_probability, feature_batch, label_batch):\n",
    "    \"\"\"\n",
    "    Optimize the session on a batch of images and labels\n",
    "    : session: Current TensorFlow session\n",
    "    : optimizer: TensorFlow optimizer function\n",
    "    : keep_probability: keep probability\n",
    "    : feature_batch: Batch of Numpy image data\n",
    "    : label_batch: Batch of Numpy label data\n",
    "    \"\"\"\n",
    "    # TODO: Implement Function\n",
    "    session.run(optimizer, feed_dict={x: feature_batch,\n",
    "                                      y: label_batch,\n",
    "                                      keep_prob: keep_probability})\n",
    "\n",
    "\n",
    "\"\"\"\n",
    "DON'T MODIFY ANYTHING IN THIS CELL THAT IS BELOW THIS LINE\n",
    "\"\"\"\n",
    "tests.test_train_nn(train_neural_network)"
   ]
  },
  {
   "cell_type": "markdown",
   "metadata": {
    "deletable": true,
    "editable": true
   },
   "source": [
    "### Show Stats\n",
    "Implement the function `print_stats` to print loss and validation accuracy.  Use the global variables `valid_features` and `valid_labels` to calculate validation accuracy.  Use a keep probability of `1.0` to calculate the loss and validation accuracy."
   ]
  },
  {
   "cell_type": "code",
   "execution_count": 14,
   "metadata": {
    "collapsed": false,
    "deletable": true,
    "editable": true
   },
   "outputs": [],
   "source": [
    "def print_stats(session, feature_batch, label_batch, cost, accuracy):\n",
    "    \"\"\"\n",
    "    Print information about loss and validation accuracy\n",
    "    : session: Current TensorFlow session\n",
    "    : feature_batch: Batch of Numpy image data\n",
    "    : label_batch: Batch of Numpy label data\n",
    "    : cost: TensorFlow cost function\n",
    "    : accuracy: TensorFlow accuracy function\n",
    "    \"\"\"\n",
    "    # TODO: Implement Function\n",
    "    loss = session.run(accuracy, feed_dict = {x: feature_batch,\n",
    "                                            y: label_batch, \n",
    "                                            keep_prob: 1.})\n",
    "    valid_acc = session.run(accuracy, feed_dict = {x: valid_features, \n",
    "                                                   y: valid_labels, \n",
    "                                                   keep_prob: 1.})\n",
    "    print('Loss: {}, Validation Accuracy: {}'.format(\n",
    "                loss,\n",
    "                valid_acc))"
   ]
  },
  {
   "cell_type": "markdown",
   "metadata": {
    "deletable": true,
    "editable": true
   },
   "source": [
    "### Hyperparameters\n",
    "Tune the following parameters:\n",
    "* Set `epochs` to the number of iterations until the network stops learning or start overfitting\n",
    "* Set `batch_size` to the highest number that your machine has memory for.  Most people set them to common sizes of memory:\n",
    " * 64\n",
    " * 128\n",
    " * 256\n",
    " * ...\n",
    "* Set `keep_probability` to the probability of keeping a node using dropout"
   ]
  },
  {
   "cell_type": "code",
   "execution_count": 15,
   "metadata": {
    "collapsed": true,
    "deletable": true,
    "editable": true
   },
   "outputs": [],
   "source": [
    "# TODO: Tune Parameters\n",
    "epochs = 30\n",
    "batch_size = 128\n",
    "keep_probability = 0.75"
   ]
  },
  {
   "cell_type": "markdown",
   "metadata": {
    "deletable": true,
    "editable": true
   },
   "source": [
    "### Train on a Single CIFAR-10 Batch\n",
    "Instead of training the neural network on all the CIFAR-10 batches of data, let's use a single batch. This should save time while you iterate on the model to get a better accuracy.  Once the final validation accuracy is 50% or greater, run the model on all the data in the next section."
   ]
  },
  {
   "cell_type": "code",
   "execution_count": 16,
   "metadata": {
    "collapsed": false,
    "deletable": true,
    "editable": true
   },
   "outputs": [
    {
     "name": "stdout",
     "output_type": "stream",
     "text": [
      "Checking the Training on a Single Batch...\n",
      "Epoch  1, CIFAR-10 Batch 1:  Loss: 0.30000001192092896, Validation Accuracy: 0.3089999854564667\n",
      "Epoch  2, CIFAR-10 Batch 1:  Loss: 0.375, Validation Accuracy: 0.38920000195503235\n",
      "Epoch  3, CIFAR-10 Batch 1:  Loss: 0.375, Validation Accuracy: 0.41600000858306885\n",
      "Epoch  4, CIFAR-10 Batch 1:  Loss: 0.4000000059604645, Validation Accuracy: 0.43479999899864197\n",
      "Epoch  5, CIFAR-10 Batch 1:  Loss: 0.44999998807907104, Validation Accuracy: 0.45260000228881836\n",
      "Epoch  6, CIFAR-10 Batch 1:  Loss: 0.4000000059604645, Validation Accuracy: 0.462799996137619\n",
      "Epoch  7, CIFAR-10 Batch 1:  Loss: 0.42500001192092896, Validation Accuracy: 0.4674000144004822\n",
      "Epoch  8, CIFAR-10 Batch 1:  Loss: 0.42500001192092896, Validation Accuracy: 0.49239999055862427\n",
      "Epoch  9, CIFAR-10 Batch 1:  Loss: 0.44999998807907104, Validation Accuracy: 0.5085999965667725\n",
      "Epoch 10, CIFAR-10 Batch 1:  Loss: 0.44999998807907104, Validation Accuracy: 0.5058000087738037\n",
      "Epoch 11, CIFAR-10 Batch 1:  Loss: 0.4749999940395355, Validation Accuracy: 0.5188000202178955\n"
     ]
    },
    {
     "ename": "KeyboardInterrupt",
     "evalue": "",
     "output_type": "error",
     "traceback": [
      "\u001b[0;31m---------------------------------------------------------------------------\u001b[0m",
      "\u001b[0;31mKeyboardInterrupt\u001b[0m                         Traceback (most recent call last)",
      "\u001b[0;32m<ipython-input-16-0ebd1bbc35ad>\u001b[0m in \u001b[0;36m<module>\u001b[0;34m()\u001b[0m\n\u001b[1;32m     11\u001b[0m         \u001b[0mbatch_i\u001b[0m \u001b[0;34m=\u001b[0m \u001b[0;36m1\u001b[0m\u001b[0;34m\u001b[0m\u001b[0m\n\u001b[1;32m     12\u001b[0m         \u001b[0;32mfor\u001b[0m \u001b[0mbatch_features\u001b[0m\u001b[0;34m,\u001b[0m \u001b[0mbatch_labels\u001b[0m \u001b[0;32min\u001b[0m \u001b[0mhelper\u001b[0m\u001b[0;34m.\u001b[0m\u001b[0mload_preprocess_training_batch\u001b[0m\u001b[0;34m(\u001b[0m\u001b[0mbatch_i\u001b[0m\u001b[0;34m,\u001b[0m \u001b[0mbatch_size\u001b[0m\u001b[0;34m)\u001b[0m\u001b[0;34m:\u001b[0m\u001b[0;34m\u001b[0m\u001b[0m\n\u001b[0;32m---> 13\u001b[0;31m             \u001b[0mtrain_neural_network\u001b[0m\u001b[0;34m(\u001b[0m\u001b[0msess\u001b[0m\u001b[0;34m,\u001b[0m \u001b[0moptimizer\u001b[0m\u001b[0;34m,\u001b[0m \u001b[0mkeep_probability\u001b[0m\u001b[0;34m,\u001b[0m \u001b[0mbatch_features\u001b[0m\u001b[0;34m,\u001b[0m \u001b[0mbatch_labels\u001b[0m\u001b[0;34m)\u001b[0m\u001b[0;34m\u001b[0m\u001b[0m\n\u001b[0m\u001b[1;32m     14\u001b[0m         \u001b[0mprint\u001b[0m\u001b[0;34m(\u001b[0m\u001b[0;34m'Epoch {:>2}, CIFAR-10 Batch {}:  '\u001b[0m\u001b[0;34m.\u001b[0m\u001b[0mformat\u001b[0m\u001b[0;34m(\u001b[0m\u001b[0mepoch\u001b[0m \u001b[0;34m+\u001b[0m \u001b[0;36m1\u001b[0m\u001b[0;34m,\u001b[0m \u001b[0mbatch_i\u001b[0m\u001b[0;34m)\u001b[0m\u001b[0;34m,\u001b[0m \u001b[0mend\u001b[0m\u001b[0;34m=\u001b[0m\u001b[0;34m''\u001b[0m\u001b[0;34m)\u001b[0m\u001b[0;34m\u001b[0m\u001b[0m\n\u001b[1;32m     15\u001b[0m         \u001b[0mprint_stats\u001b[0m\u001b[0;34m(\u001b[0m\u001b[0msess\u001b[0m\u001b[0;34m,\u001b[0m \u001b[0mbatch_features\u001b[0m\u001b[0;34m,\u001b[0m \u001b[0mbatch_labels\u001b[0m\u001b[0;34m,\u001b[0m \u001b[0mcost\u001b[0m\u001b[0;34m,\u001b[0m \u001b[0maccuracy\u001b[0m\u001b[0;34m)\u001b[0m\u001b[0;34m\u001b[0m\u001b[0m\n",
      "\u001b[0;32m<ipython-input-13-72c13bf508d2>\u001b[0m in \u001b[0;36mtrain_neural_network\u001b[0;34m(session, optimizer, keep_probability, feature_batch, label_batch)\u001b[0m\n\u001b[1;32m     11\u001b[0m     session.run(optimizer, feed_dict={x: feature_batch,\n\u001b[1;32m     12\u001b[0m                                       \u001b[0my\u001b[0m\u001b[0;34m:\u001b[0m \u001b[0mlabel_batch\u001b[0m\u001b[0;34m,\u001b[0m\u001b[0;34m\u001b[0m\u001b[0m\n\u001b[0;32m---> 13\u001b[0;31m                                       keep_prob: keep_probability})\n\u001b[0m\u001b[1;32m     14\u001b[0m \u001b[0;34m\u001b[0m\u001b[0m\n\u001b[1;32m     15\u001b[0m \u001b[0;34m\u001b[0m\u001b[0m\n",
      "\u001b[0;32m/Users/karel/anaconda/envs/tensorflow/lib/python3.5/site-packages/tensorflow/python/client/session.py\u001b[0m in \u001b[0;36mrun\u001b[0;34m(self, fetches, feed_dict, options, run_metadata)\u001b[0m\n\u001b[1;32m    765\u001b[0m     \u001b[0;32mtry\u001b[0m\u001b[0;34m:\u001b[0m\u001b[0;34m\u001b[0m\u001b[0m\n\u001b[1;32m    766\u001b[0m       result = self._run(None, fetches, feed_dict, options_ptr,\n\u001b[0;32m--> 767\u001b[0;31m                          run_metadata_ptr)\n\u001b[0m\u001b[1;32m    768\u001b[0m       \u001b[0;32mif\u001b[0m \u001b[0mrun_metadata\u001b[0m\u001b[0;34m:\u001b[0m\u001b[0;34m\u001b[0m\u001b[0m\n\u001b[1;32m    769\u001b[0m         \u001b[0mproto_data\u001b[0m \u001b[0;34m=\u001b[0m \u001b[0mtf_session\u001b[0m\u001b[0;34m.\u001b[0m\u001b[0mTF_GetBuffer\u001b[0m\u001b[0;34m(\u001b[0m\u001b[0mrun_metadata_ptr\u001b[0m\u001b[0;34m)\u001b[0m\u001b[0;34m\u001b[0m\u001b[0m\n",
      "\u001b[0;32m/Users/karel/anaconda/envs/tensorflow/lib/python3.5/site-packages/tensorflow/python/client/session.py\u001b[0m in \u001b[0;36m_run\u001b[0;34m(self, handle, fetches, feed_dict, options, run_metadata)\u001b[0m\n\u001b[1;32m    963\u001b[0m     \u001b[0;32mif\u001b[0m \u001b[0mfinal_fetches\u001b[0m \u001b[0;32mor\u001b[0m \u001b[0mfinal_targets\u001b[0m\u001b[0;34m:\u001b[0m\u001b[0;34m\u001b[0m\u001b[0m\n\u001b[1;32m    964\u001b[0m       results = self._do_run(handle, final_targets, final_fetches,\n\u001b[0;32m--> 965\u001b[0;31m                              feed_dict_string, options, run_metadata)\n\u001b[0m\u001b[1;32m    966\u001b[0m     \u001b[0;32melse\u001b[0m\u001b[0;34m:\u001b[0m\u001b[0;34m\u001b[0m\u001b[0m\n\u001b[1;32m    967\u001b[0m       \u001b[0mresults\u001b[0m \u001b[0;34m=\u001b[0m \u001b[0;34m[\u001b[0m\u001b[0;34m]\u001b[0m\u001b[0;34m\u001b[0m\u001b[0m\n",
      "\u001b[0;32m/Users/karel/anaconda/envs/tensorflow/lib/python3.5/site-packages/tensorflow/python/client/session.py\u001b[0m in \u001b[0;36m_do_run\u001b[0;34m(self, handle, target_list, fetch_list, feed_dict, options, run_metadata)\u001b[0m\n\u001b[1;32m   1013\u001b[0m     \u001b[0;32mif\u001b[0m \u001b[0mhandle\u001b[0m \u001b[0;32mis\u001b[0m \u001b[0;32mNone\u001b[0m\u001b[0;34m:\u001b[0m\u001b[0;34m\u001b[0m\u001b[0m\n\u001b[1;32m   1014\u001b[0m       return self._do_call(_run_fn, self._session, feed_dict, fetch_list,\n\u001b[0;32m-> 1015\u001b[0;31m                            target_list, options, run_metadata)\n\u001b[0m\u001b[1;32m   1016\u001b[0m     \u001b[0;32melse\u001b[0m\u001b[0;34m:\u001b[0m\u001b[0;34m\u001b[0m\u001b[0m\n\u001b[1;32m   1017\u001b[0m       return self._do_call(_prun_fn, self._session, handle, feed_dict,\n",
      "\u001b[0;32m/Users/karel/anaconda/envs/tensorflow/lib/python3.5/site-packages/tensorflow/python/client/session.py\u001b[0m in \u001b[0;36m_do_call\u001b[0;34m(self, fn, *args)\u001b[0m\n\u001b[1;32m   1020\u001b[0m   \u001b[0;32mdef\u001b[0m \u001b[0m_do_call\u001b[0m\u001b[0;34m(\u001b[0m\u001b[0mself\u001b[0m\u001b[0;34m,\u001b[0m \u001b[0mfn\u001b[0m\u001b[0;34m,\u001b[0m \u001b[0;34m*\u001b[0m\u001b[0margs\u001b[0m\u001b[0;34m)\u001b[0m\u001b[0;34m:\u001b[0m\u001b[0;34m\u001b[0m\u001b[0m\n\u001b[1;32m   1021\u001b[0m     \u001b[0;32mtry\u001b[0m\u001b[0;34m:\u001b[0m\u001b[0;34m\u001b[0m\u001b[0m\n\u001b[0;32m-> 1022\u001b[0;31m       \u001b[0;32mreturn\u001b[0m \u001b[0mfn\u001b[0m\u001b[0;34m(\u001b[0m\u001b[0;34m*\u001b[0m\u001b[0margs\u001b[0m\u001b[0;34m)\u001b[0m\u001b[0;34m\u001b[0m\u001b[0m\n\u001b[0m\u001b[1;32m   1023\u001b[0m     \u001b[0;32mexcept\u001b[0m \u001b[0merrors\u001b[0m\u001b[0;34m.\u001b[0m\u001b[0mOpError\u001b[0m \u001b[0;32mas\u001b[0m \u001b[0me\u001b[0m\u001b[0;34m:\u001b[0m\u001b[0;34m\u001b[0m\u001b[0m\n\u001b[1;32m   1024\u001b[0m       \u001b[0mmessage\u001b[0m \u001b[0;34m=\u001b[0m \u001b[0mcompat\u001b[0m\u001b[0;34m.\u001b[0m\u001b[0mas_text\u001b[0m\u001b[0;34m(\u001b[0m\u001b[0me\u001b[0m\u001b[0;34m.\u001b[0m\u001b[0mmessage\u001b[0m\u001b[0;34m)\u001b[0m\u001b[0;34m\u001b[0m\u001b[0m\n",
      "\u001b[0;32m/Users/karel/anaconda/envs/tensorflow/lib/python3.5/site-packages/tensorflow/python/client/session.py\u001b[0m in \u001b[0;36m_run_fn\u001b[0;34m(session, feed_dict, fetch_list, target_list, options, run_metadata)\u001b[0m\n\u001b[1;32m   1002\u001b[0m         return tf_session.TF_Run(session, options,\n\u001b[1;32m   1003\u001b[0m                                  \u001b[0mfeed_dict\u001b[0m\u001b[0;34m,\u001b[0m \u001b[0mfetch_list\u001b[0m\u001b[0;34m,\u001b[0m \u001b[0mtarget_list\u001b[0m\u001b[0;34m,\u001b[0m\u001b[0;34m\u001b[0m\u001b[0m\n\u001b[0;32m-> 1004\u001b[0;31m                                  status, run_metadata)\n\u001b[0m\u001b[1;32m   1005\u001b[0m \u001b[0;34m\u001b[0m\u001b[0m\n\u001b[1;32m   1006\u001b[0m     \u001b[0;32mdef\u001b[0m \u001b[0m_prun_fn\u001b[0m\u001b[0;34m(\u001b[0m\u001b[0msession\u001b[0m\u001b[0;34m,\u001b[0m \u001b[0mhandle\u001b[0m\u001b[0;34m,\u001b[0m \u001b[0mfeed_dict\u001b[0m\u001b[0;34m,\u001b[0m \u001b[0mfetch_list\u001b[0m\u001b[0;34m)\u001b[0m\u001b[0;34m:\u001b[0m\u001b[0;34m\u001b[0m\u001b[0m\n",
      "\u001b[0;31mKeyboardInterrupt\u001b[0m: "
     ]
    }
   ],
   "source": [
    "\"\"\"\n",
    "DON'T MODIFY ANYTHING IN THIS CELL\n",
    "\"\"\"\n",
    "print('Checking the Training on a Single Batch...')\n",
    "with tf.Session() as sess:\n",
    "    # Initializing the variables\n",
    "    sess.run(tf.global_variables_initializer())\n",
    "    \n",
    "    # Training cycle\n",
    "    for epoch in range(epochs):\n",
    "        batch_i = 1\n",
    "        for batch_features, batch_labels in helper.load_preprocess_training_batch(batch_i, batch_size):\n",
    "            train_neural_network(sess, optimizer, keep_probability, batch_features, batch_labels)\n",
    "        print('Epoch {:>2}, CIFAR-10 Batch {}:  '.format(epoch + 1, batch_i), end='')\n",
    "        print_stats(sess, batch_features, batch_labels, cost, accuracy)"
   ]
  },
  {
   "cell_type": "markdown",
   "metadata": {
    "deletable": true,
    "editable": true
   },
   "source": [
    "### Fully Train the Model\n",
    "Now that you got a good accuracy with a single CIFAR-10 batch, try it with all five batches."
   ]
  },
  {
   "cell_type": "code",
   "execution_count": 17,
   "metadata": {
    "collapsed": false,
    "deletable": true,
    "editable": true
   },
   "outputs": [
    {
     "name": "stdout",
     "output_type": "stream",
     "text": [
      "Training...\n",
      "Epoch  1, CIFAR-10 Batch 1:  Loss: 0.20000000298023224, Validation Accuracy: 0.29500001668930054\n",
      "Epoch  1, CIFAR-10 Batch 2:  Loss: 0.42500001192092896, Validation Accuracy: 0.38979995250701904\n",
      "Epoch  1, CIFAR-10 Batch 3:  Loss: 0.44999998807907104, Validation Accuracy: 0.402599960565567\n",
      "Epoch  1, CIFAR-10 Batch 4:  Loss: 0.3499999940395355, Validation Accuracy: 0.41759997606277466\n",
      "Epoch  1, CIFAR-10 Batch 5:  Loss: 0.4000000059604645, Validation Accuracy: 0.4187999665737152\n",
      "Epoch  2, CIFAR-10 Batch 1:  Loss: 0.42499998211860657, Validation Accuracy: 0.4633999764919281\n",
      "Epoch  2, CIFAR-10 Batch 2:  Loss: 0.44999998807907104, Validation Accuracy: 0.47259995341300964\n",
      "Epoch  2, CIFAR-10 Batch 3:  Loss: 0.5249999761581421, Validation Accuracy: 0.4601999521255493\n",
      "Epoch  2, CIFAR-10 Batch 4:  Loss: 0.45000001788139343, Validation Accuracy: 0.48379993438720703\n",
      "Epoch  2, CIFAR-10 Batch 5:  Loss: 0.5, Validation Accuracy: 0.48739996552467346\n",
      "Epoch  3, CIFAR-10 Batch 1:  Loss: 0.375, Validation Accuracy: 0.5004000067710876\n",
      "Epoch  3, CIFAR-10 Batch 2:  Loss: 0.5, Validation Accuracy: 0.5113999843597412\n",
      "Epoch  3, CIFAR-10 Batch 3:  Loss: 0.574999988079071, Validation Accuracy: 0.504599928855896\n",
      "Epoch  3, CIFAR-10 Batch 4:  Loss: 0.44999998807907104, Validation Accuracy: 0.5155999660491943\n",
      "Epoch  3, CIFAR-10 Batch 5:  Loss: 0.5750000476837158, Validation Accuracy: 0.5259999632835388\n",
      "Epoch  4, CIFAR-10 Batch 1:  Loss: 0.42500001192092896, Validation Accuracy: 0.531999945640564\n",
      "Epoch  4, CIFAR-10 Batch 2:  Loss: 0.3999999761581421, Validation Accuracy: 0.5333999395370483\n",
      "Epoch  4, CIFAR-10 Batch 3:  Loss: 0.6499999761581421, Validation Accuracy: 0.52920001745224\n",
      "Epoch  4, CIFAR-10 Batch 4:  Loss: 0.5, Validation Accuracy: 0.5371999740600586\n",
      "Epoch  4, CIFAR-10 Batch 5:  Loss: 0.625, Validation Accuracy: 0.5331999063491821\n",
      "Epoch  5, CIFAR-10 Batch 1:  Loss: 0.5, Validation Accuracy: 0.5553999543190002\n",
      "Epoch  5, CIFAR-10 Batch 2:  Loss: 0.45000001788139343, Validation Accuracy: 0.5633999109268188\n",
      "Epoch  5, CIFAR-10 Batch 3:  Loss: 0.6499999761581421, Validation Accuracy: 0.561599850654602\n",
      "Epoch  5, CIFAR-10 Batch 4:  Loss: 0.5250000357627869, Validation Accuracy: 0.559999942779541\n",
      "Epoch  5, CIFAR-10 Batch 5:  Loss: 0.6000000238418579, Validation Accuracy: 0.5847998857498169\n",
      "Epoch  6, CIFAR-10 Batch 1:  Loss: 0.550000011920929, Validation Accuracy: 0.5783999562263489\n",
      "Epoch  6, CIFAR-10 Batch 2:  Loss: 0.42500001192092896, Validation Accuracy: 0.5734000205993652\n",
      "Epoch  6, CIFAR-10 Batch 3:  Loss: 0.7000000476837158, Validation Accuracy: 0.5833998918533325\n",
      "Epoch  6, CIFAR-10 Batch 4:  Loss: 0.6000000238418579, Validation Accuracy: 0.5851999521255493\n",
      "Epoch  6, CIFAR-10 Batch 5:  Loss: 0.7250000238418579, Validation Accuracy: 0.5905998945236206\n",
      "Epoch  7, CIFAR-10 Batch 1:  Loss: 0.6499999761581421, Validation Accuracy: 0.590999960899353\n",
      "Epoch  7, CIFAR-10 Batch 2:  Loss: 0.5250000357627869, Validation Accuracy: 0.5991998910903931\n",
      "Epoch  7, CIFAR-10 Batch 3:  Loss: 0.7250000238418579, Validation Accuracy: 0.6031999588012695\n",
      "Epoch  7, CIFAR-10 Batch 4:  Loss: 0.6000000238418579, Validation Accuracy: 0.6079999208450317\n",
      "Epoch  7, CIFAR-10 Batch 5:  Loss: 0.75, Validation Accuracy: 0.6139998435974121\n",
      "Epoch  8, CIFAR-10 Batch 1:  Loss: 0.675000011920929, Validation Accuracy: 0.6209999322891235\n",
      "Epoch  8, CIFAR-10 Batch 2:  Loss: 0.550000011920929, Validation Accuracy: 0.6159999370574951\n",
      "Epoch  8, CIFAR-10 Batch 3:  Loss: 0.7250000238418579, Validation Accuracy: 0.6095998883247375\n",
      "Epoch  8, CIFAR-10 Batch 4:  Loss: 0.699999988079071, Validation Accuracy: 0.619999885559082\n",
      "Epoch  8, CIFAR-10 Batch 5:  Loss: 0.7750000357627869, Validation Accuracy: 0.6249999403953552\n",
      "Epoch  9, CIFAR-10 Batch 1:  Loss: 0.7000000476837158, Validation Accuracy: 0.6321998834609985\n",
      "Epoch  9, CIFAR-10 Batch 2:  Loss: 0.625, Validation Accuracy: 0.6339998841285706\n",
      "Epoch  9, CIFAR-10 Batch 3:  Loss: 0.75, Validation Accuracy: 0.6219998598098755\n",
      "Epoch  9, CIFAR-10 Batch 4:  Loss: 0.6500000357627869, Validation Accuracy: 0.63239985704422\n",
      "Epoch  9, CIFAR-10 Batch 5:  Loss: 0.75, Validation Accuracy: 0.6249998807907104\n",
      "Epoch 10, CIFAR-10 Batch 1:  Loss: 0.7000000476837158, Validation Accuracy: 0.6317999362945557\n",
      "Epoch 10, CIFAR-10 Batch 2:  Loss: 0.6749999523162842, Validation Accuracy: 0.6439999341964722\n",
      "Epoch 10, CIFAR-10 Batch 3:  Loss: 0.75, Validation Accuracy: 0.6423999071121216\n",
      "Epoch 10, CIFAR-10 Batch 4:  Loss: 0.6749999523162842, Validation Accuracy: 0.6321999430656433\n",
      "Epoch 10, CIFAR-10 Batch 5:  Loss: 0.8250000476837158, Validation Accuracy: 0.6495999097824097\n",
      "Epoch 11, CIFAR-10 Batch 1:  Loss: 0.7749999761581421, Validation Accuracy: 0.6571998596191406\n",
      "Epoch 11, CIFAR-10 Batch 2:  Loss: 0.699999988079071, Validation Accuracy: 0.650399923324585\n",
      "Epoch 11, CIFAR-10 Batch 3:  Loss: 0.8250000476837158, Validation Accuracy: 0.6493998765945435\n",
      "Epoch 11, CIFAR-10 Batch 4:  Loss: 0.675000011920929, Validation Accuracy: 0.6477999091148376\n",
      "Epoch 11, CIFAR-10 Batch 5:  Loss: 0.8250000476837158, Validation Accuracy: 0.6573998928070068\n",
      "Epoch 12, CIFAR-10 Batch 1:  Loss: 0.7749999761581421, Validation Accuracy: 0.6535999178886414\n",
      "Epoch 12, CIFAR-10 Batch 2:  Loss: 0.7750000357627869, Validation Accuracy: 0.6555998921394348\n",
      "Epoch 12, CIFAR-10 Batch 3:  Loss: 0.8250000476837158, Validation Accuracy: 0.6631999015808105\n",
      "Epoch 12, CIFAR-10 Batch 4:  Loss: 0.7250000238418579, Validation Accuracy: 0.6569998860359192\n",
      "Epoch 12, CIFAR-10 Batch 5:  Loss: 0.7749999761581421, Validation Accuracy: 0.657599925994873\n",
      "Epoch 13, CIFAR-10 Batch 1:  Loss: 0.75, Validation Accuracy: 0.6621999144554138\n",
      "Epoch 13, CIFAR-10 Batch 2:  Loss: 0.800000011920929, Validation Accuracy: 0.6741998791694641\n",
      "Epoch 13, CIFAR-10 Batch 3:  Loss: 0.824999988079071, Validation Accuracy: 0.6623998880386353\n",
      "Epoch 13, CIFAR-10 Batch 4:  Loss: 0.7000000476837158, Validation Accuracy: 0.6453999280929565\n",
      "Epoch 13, CIFAR-10 Batch 5:  Loss: 0.8250000476837158, Validation Accuracy: 0.6659998893737793\n",
      "Epoch 14, CIFAR-10 Batch 1:  Loss: 0.75, Validation Accuracy: 0.6687999367713928\n",
      "Epoch 14, CIFAR-10 Batch 2:  Loss: 0.8750000596046448, Validation Accuracy: 0.6721999049186707\n",
      "Epoch 14, CIFAR-10 Batch 3:  Loss: 0.800000011920929, Validation Accuracy: 0.6705999374389648\n",
      "Epoch 14, CIFAR-10 Batch 4:  Loss: 0.7749999761581421, Validation Accuracy: 0.6657998561859131\n",
      "Epoch 14, CIFAR-10 Batch 5:  Loss: 0.8000000715255737, Validation Accuracy: 0.6659998893737793\n",
      "Epoch 15, CIFAR-10 Batch 1:  Loss: 0.75, Validation Accuracy: 0.6721999049186707\n",
      "Epoch 15, CIFAR-10 Batch 2:  Loss: 0.800000011920929, Validation Accuracy: 0.6715999245643616\n",
      "Epoch 15, CIFAR-10 Batch 3:  Loss: 0.8500000238418579, Validation Accuracy: 0.6823998689651489\n",
      "Epoch 15, CIFAR-10 Batch 4:  Loss: 0.7750000357627869, Validation Accuracy: 0.673399806022644\n",
      "Epoch 15, CIFAR-10 Batch 5:  Loss: 0.8500000238418579, Validation Accuracy: 0.6715998649597168\n",
      "Epoch 16, CIFAR-10 Batch 1:  Loss: 0.7999999523162842, Validation Accuracy: 0.6783998012542725\n",
      "Epoch 16, CIFAR-10 Batch 2:  Loss: 0.9000000357627869, Validation Accuracy: 0.675399899482727\n",
      "Epoch 16, CIFAR-10 Batch 3:  Loss: 0.8500000238418579, Validation Accuracy: 0.6825999021530151\n",
      "Epoch 16, CIFAR-10 Batch 4:  Loss: 0.7750000357627869, Validation Accuracy: 0.6689999103546143\n",
      "Epoch 16, CIFAR-10 Batch 5:  Loss: 0.875, Validation Accuracy: 0.671799898147583\n",
      "Epoch 17, CIFAR-10 Batch 1:  Loss: 0.800000011920929, Validation Accuracy: 0.6821998953819275\n",
      "Epoch 17, CIFAR-10 Batch 2:  Loss: 0.875, Validation Accuracy: 0.6889998912811279\n",
      "Epoch 17, CIFAR-10 Batch 3:  Loss: 0.824999988079071, Validation Accuracy: 0.6771999001502991\n",
      "Epoch 17, CIFAR-10 Batch 4:  Loss: 0.7750000357627869, Validation Accuracy: 0.6641998291015625\n",
      "Epoch 17, CIFAR-10 Batch 5:  Loss: 0.8500000238418579, Validation Accuracy: 0.6713998317718506\n",
      "Epoch 18, CIFAR-10 Batch 1:  Loss: 0.8250000476837158, Validation Accuracy: 0.6765998601913452\n",
      "Epoch 18, CIFAR-10 Batch 2:  Loss: 0.8750000596046448, Validation Accuracy: 0.6675999164581299\n",
      "Epoch 18, CIFAR-10 Batch 3:  Loss: 0.925000011920929, Validation Accuracy: 0.6867998242378235\n",
      "Epoch 18, CIFAR-10 Batch 4:  Loss: 0.800000011920929, Validation Accuracy: 0.6751999258995056\n",
      "Epoch 18, CIFAR-10 Batch 5:  Loss: 0.875, Validation Accuracy: 0.6653999090194702\n",
      "Epoch 19, CIFAR-10 Batch 1:  Loss: 0.8250000476837158, Validation Accuracy: 0.678399920463562\n",
      "Epoch 19, CIFAR-10 Batch 2:  Loss: 0.875, Validation Accuracy: 0.693199872970581\n",
      "Epoch 19, CIFAR-10 Batch 3:  Loss: 0.949999988079071, Validation Accuracy: 0.6835998296737671\n",
      "Epoch 19, CIFAR-10 Batch 4:  Loss: 0.800000011920929, Validation Accuracy: 0.6655998826026917\n",
      "Epoch 19, CIFAR-10 Batch 5:  Loss: 0.8999999761581421, Validation Accuracy: 0.6781999468803406\n",
      "Epoch 20, CIFAR-10 Batch 1:  Loss: 0.8500000238418579, Validation Accuracy: 0.6875998973846436\n",
      "Epoch 20, CIFAR-10 Batch 2:  Loss: 0.875, Validation Accuracy: 0.684999942779541\n",
      "Epoch 20, CIFAR-10 Batch 3:  Loss: 0.949999988079071, Validation Accuracy: 0.6889998912811279\n",
      "Epoch 20, CIFAR-10 Batch 4:  Loss: 0.800000011920929, Validation Accuracy: 0.6781998872756958\n",
      "Epoch 20, CIFAR-10 Batch 5:  Loss: 0.9000000357627869, Validation Accuracy: 0.6807998418807983\n",
      "Epoch 21, CIFAR-10 Batch 1:  Loss: 0.824999988079071, Validation Accuracy: 0.6865999102592468\n",
      "Epoch 21, CIFAR-10 Batch 2:  Loss: 0.8750000596046448, Validation Accuracy: 0.6939998865127563\n",
      "Epoch 21, CIFAR-10 Batch 3:  Loss: 0.925000011920929, Validation Accuracy: 0.687799870967865\n",
      "Epoch 21, CIFAR-10 Batch 4:  Loss: 0.800000011920929, Validation Accuracy: 0.6679998636245728\n",
      "Epoch 21, CIFAR-10 Batch 5:  Loss: 0.949999988079071, Validation Accuracy: 0.6791998744010925\n",
      "Epoch 22, CIFAR-10 Batch 1:  Loss: 0.824999988079071, Validation Accuracy: 0.6853998899459839\n",
      "Epoch 22, CIFAR-10 Batch 2:  Loss: 0.9000000357627869, Validation Accuracy: 0.6933999061584473\n",
      "Epoch 22, CIFAR-10 Batch 3:  Loss: 0.949999988079071, Validation Accuracy: 0.6881998777389526\n",
      "Epoch 22, CIFAR-10 Batch 4:  Loss: 0.8250000476837158, Validation Accuracy: 0.6785998344421387\n",
      "Epoch 22, CIFAR-10 Batch 5:  Loss: 0.9750000238418579, Validation Accuracy: 0.6833998560905457\n",
      "Epoch 23, CIFAR-10 Batch 1:  Loss: 0.8500000238418579, Validation Accuracy: 0.6949998140335083\n",
      "Epoch 23, CIFAR-10 Batch 2:  Loss: 0.925000011920929, Validation Accuracy: 0.6937999725341797\n",
      "Epoch 23, CIFAR-10 Batch 3:  Loss: 0.925000011920929, Validation Accuracy: 0.6845998764038086\n",
      "Epoch 23, CIFAR-10 Batch 4:  Loss: 0.925000011920929, Validation Accuracy: 0.6867998838424683\n",
      "Epoch 23, CIFAR-10 Batch 5:  Loss: 0.925000011920929, Validation Accuracy: 0.6871998906135559\n",
      "Epoch 24, CIFAR-10 Batch 1:  Loss: 0.8500000238418579, Validation Accuracy: 0.6927998661994934\n",
      "Epoch 24, CIFAR-10 Batch 2:  Loss: 0.9000000357627869, Validation Accuracy: 0.6929998993873596\n",
      "Epoch 24, CIFAR-10 Batch 3:  Loss: 0.9000000357627869, Validation Accuracy: 0.6875998973846436\n",
      "Epoch 24, CIFAR-10 Batch 4:  Loss: 0.8500000834465027, Validation Accuracy: 0.6751998662948608\n",
      "Epoch 24, CIFAR-10 Batch 5:  Loss: 0.949999988079071, Validation Accuracy: 0.6893998980522156\n",
      "Epoch 25, CIFAR-10 Batch 1:  Loss: 0.8750000596046448, Validation Accuracy: 0.6911998987197876\n",
      "Epoch 25, CIFAR-10 Batch 2:  Loss: 0.925000011920929, Validation Accuracy: 0.6939998269081116\n",
      "Epoch 25, CIFAR-10 Batch 3:  Loss: 0.925000011920929, Validation Accuracy: 0.6939998865127563\n",
      "Epoch 25, CIFAR-10 Batch 4:  Loss: 0.8500000834465027, Validation Accuracy: 0.6873998045921326\n",
      "Epoch 25, CIFAR-10 Batch 5:  Loss: 0.925000011920929, Validation Accuracy: 0.6931998133659363\n",
      "Epoch 26, CIFAR-10 Batch 1:  Loss: 0.8500000238418579, Validation Accuracy: 0.6991998553276062\n",
      "Epoch 26, CIFAR-10 Batch 2:  Loss: 0.925000011920929, Validation Accuracy: 0.6969998478889465\n",
      "Epoch 26, CIFAR-10 Batch 3:  Loss: 0.949999988079071, Validation Accuracy: 0.6873998641967773\n",
      "Epoch 26, CIFAR-10 Batch 4:  Loss: 0.8250000476837158, Validation Accuracy: 0.6841998100280762\n",
      "Epoch 26, CIFAR-10 Batch 5:  Loss: 0.949999988079071, Validation Accuracy: 0.6945998668670654\n",
      "Epoch 27, CIFAR-10 Batch 1:  Loss: 0.925000011920929, Validation Accuracy: 0.6897997856140137\n",
      "Epoch 27, CIFAR-10 Batch 2:  Loss: 0.925000011920929, Validation Accuracy: 0.6917998790740967\n",
      "Epoch 27, CIFAR-10 Batch 3:  Loss: 0.925000011920929, Validation Accuracy: 0.6893998384475708\n",
      "Epoch 27, CIFAR-10 Batch 4:  Loss: 0.8250000476837158, Validation Accuracy: 0.6855998635292053\n",
      "Epoch 27, CIFAR-10 Batch 5:  Loss: 0.925000011920929, Validation Accuracy: 0.6975998878479004\n",
      "Epoch 28, CIFAR-10 Batch 1:  Loss: 0.8750000596046448, Validation Accuracy: 0.6907998323440552\n",
      "Epoch 28, CIFAR-10 Batch 2:  Loss: 0.925000011920929, Validation Accuracy: 0.7005999088287354\n",
      "Epoch 28, CIFAR-10 Batch 3:  Loss: 0.9749999642372131, Validation Accuracy: 0.6901998519897461\n",
      "Epoch 28, CIFAR-10 Batch 4:  Loss: 0.9000000357627869, Validation Accuracy: 0.6807999014854431\n",
      "Epoch 28, CIFAR-10 Batch 5:  Loss: 0.949999988079071, Validation Accuracy: 0.6903998851776123\n",
      "Epoch 29, CIFAR-10 Batch 1:  Loss: 0.8750000596046448, Validation Accuracy: 0.6887998580932617\n",
      "Epoch 29, CIFAR-10 Batch 2:  Loss: 0.925000011920929, Validation Accuracy: 0.7011998295783997\n",
      "Epoch 29, CIFAR-10 Batch 3:  Loss: 0.949999988079071, Validation Accuracy: 0.6927998661994934\n",
      "Epoch 29, CIFAR-10 Batch 4:  Loss: 0.9000000357627869, Validation Accuracy: 0.6967998147010803\n",
      "Epoch 29, CIFAR-10 Batch 5:  Loss: 0.949999988079071, Validation Accuracy: 0.6899999380111694\n",
      "Epoch 30, CIFAR-10 Batch 1:  Loss: 0.9000000357627869, Validation Accuracy: 0.6811999082565308\n",
      "Epoch 30, CIFAR-10 Batch 2:  Loss: 0.925000011920929, Validation Accuracy: 0.6949998736381531\n",
      "Epoch 30, CIFAR-10 Batch 3:  Loss: 0.949999988079071, Validation Accuracy: 0.6855998635292053\n",
      "Epoch 30, CIFAR-10 Batch 4:  Loss: 0.8750000596046448, Validation Accuracy: 0.6873998641967773\n",
      "Epoch 30, CIFAR-10 Batch 5:  Loss: 0.925000011920929, Validation Accuracy: 0.6815998554229736\n"
     ]
    }
   ],
   "source": [
    "\"\"\"\n",
    "DON'T MODIFY ANYTHING IN THIS CELL\n",
    "\"\"\"\n",
    "save_model_path = './image_classification'\n",
    "\n",
    "print('Training...')\n",
    "with tf.Session() as sess:\n",
    "    # Initializing the variables\n",
    "    sess.run(tf.global_variables_initializer())\n",
    "    \n",
    "    # Training cycle\n",
    "    for epoch in range(epochs):\n",
    "        # Loop over all batches\n",
    "        n_batches = 5\n",
    "        for batch_i in range(1, n_batches + 1):\n",
    "            for batch_features, batch_labels in helper.load_preprocess_training_batch(batch_i, batch_size):\n",
    "                train_neural_network(sess, optimizer, keep_probability, batch_features, batch_labels)\n",
    "            print('Epoch {:>2}, CIFAR-10 Batch {}:  '.format(epoch + 1, batch_i), end='')\n",
    "            print_stats(sess, batch_features, batch_labels, cost, accuracy)\n",
    "            \n",
    "    # Save Model\n",
    "    saver = tf.train.Saver()\n",
    "    save_path = saver.save(sess, save_model_path)"
   ]
  },
  {
   "cell_type": "markdown",
   "metadata": {
    "deletable": true,
    "editable": true
   },
   "source": [
    "# Checkpoint\n",
    "The model has been saved to disk.\n",
    "## Test Model\n",
    "Test your model against the test dataset.  This will be your final accuracy. You should have an accuracy greater than 50%. If you don't, keep tweaking the model architecture and parameters."
   ]
  },
  {
   "cell_type": "code",
   "execution_count": 18,
   "metadata": {
    "collapsed": false,
    "deletable": true,
    "editable": true
   },
   "outputs": [
    {
     "name": "stdout",
     "output_type": "stream",
     "text": [
      "Testing Accuracy: 0.6930379746835443\n",
      "\n"
     ]
    },
    {
     "data": {
      "image/png": "[encoded data removed]",
      "text/plain": [
       "<matplotlib.figure.Figure at 0x7ff2073abef0>"
      ]
     },
     "metadata": {
      "image/png": {
       "height": 319,
       "width": 355
      }
     },
     "output_type": "display_data"
    }
   ],
   "source": [
    "\"\"\"\n",
    "DON'T MODIFY ANYTHING IN THIS CELL\n",
    "\"\"\"\n",
    "%matplotlib inline\n",
    "%config InlineBackend.figure_format = 'retina'\n",
    "\n",
    "import tensorflow as tf\n",
    "import pickle\n",
    "import helper\n",
    "import random\n",
    "\n",
    "# Set batch size if not already set\n",
    "try:\n",
    "    if batch_size:\n",
    "        pass\n",
    "except NameError:\n",
    "    batch_size = 64\n",
    "\n",
    "save_model_path = './image_classification'\n",
    "n_samples = 4\n",
    "top_n_predictions = 3\n",
    "\n",
    "def test_model():\n",
    "    \"\"\"\n",
    "    Test the saved model against the test dataset\n",
    "    \"\"\"\n",
    "\n",
    "    test_features, test_labels = pickle.load(open('preprocess_training.p', mode='rb'))\n",
    "    loaded_graph = tf.Graph()\n",
    "\n",
    "    with tf.Session(graph=loaded_graph) as sess:\n",
    "        # Load model\n",
    "        loader = tf.train.import_meta_graph(save_model_path + '.meta')\n",
    "        loader.restore(sess, save_model_path)\n",
    "\n",
    "        # Get Tensors from loaded model\n",
    "        loaded_x = loaded_graph.get_tensor_by_name('x:0')\n",
    "        loaded_y = loaded_graph.get_tensor_by_name('y:0')\n",
    "        loaded_keep_prob = loaded_graph.get_tensor_by_name('keep_prob:0')\n",
    "        loaded_logits = loaded_graph.get_tensor_by_name('logits:0')\n",
    "        loaded_acc = loaded_graph.get_tensor_by_name('accuracy:0')\n",
    "        \n",
    "        # Get accuracy in batches for memory limitations\n",
    "        test_batch_acc_total = 0\n",
    "        test_batch_count = 0\n",
    "        \n",
    "        for train_feature_batch, train_label_batch in helper.batch_features_labels(test_features, test_labels, batch_size):\n",
    "            test_batch_acc_total += sess.run(\n",
    "                loaded_acc,\n",
    "                feed_dict={loaded_x: train_feature_batch, loaded_y: train_label_batch, loaded_keep_prob: 1.0})\n",
    "            test_batch_count += 1\n",
    "\n",
    "        print('Testing Accuracy: {}\\n'.format(test_batch_acc_total/test_batch_count))\n",
    "\n",
    "        # Print Random Samples\n",
    "        random_test_features, random_test_labels = tuple(zip(*random.sample(list(zip(test_features, test_labels)), n_samples)))\n",
    "        random_test_predictions = sess.run(\n",
    "            tf.nn.top_k(tf.nn.softmax(loaded_logits), top_n_predictions),\n",
    "            feed_dict={loaded_x: random_test_features, loaded_y: random_test_labels, loaded_keep_prob: 1.0})\n",
    "        helper.display_image_predictions(random_test_features, random_test_labels, random_test_predictions)\n",
    "\n",
    "\n",
    "test_model()"
   ]
  },
  {
   "cell_type": "markdown",
   "metadata": {
    "deletable": true,
    "editable": true
   },
   "source": [
    "## Why 50-70% Accuracy?\n",
    "You might be wondering why you can't get an accuracy any higher. First things first, 50% isn't bad for a simple CNN.  Pure guessing would get you 10% accuracy. However, you might notice people are getting scores [well above 70%](http://rodrigob.github.io/are_we_there_yet/build/classification_datasets_results.html#43494641522d3130).  That's because we haven't taught you all there is to know about neural networks. We still need to cover a few more techniques.\n",
    "## Submitting This Project\n",
    "When submitting this project, make sure to run all the cells before saving the notebook.  Save the notebook file as \"dlnd_image_classification.ipynb\" and save it as a HTML file under \"File\" -> \"Download as\".  Include the \"helper.py\" and \"problem_unittests.py\" files in your submission."
   ]
  }
 ],
 "metadata": {
  "kernelspec": {
   "display_name": "Python 3",
   "language": "python",
   "name": "python3"
  },
  "language_info": {
   "codemirror_mode": {
    "name": "ipython",
    "version": 3
   },
   "file_extension": ".py",
   "mimetype": "text/x-python",
   "name": "python",
   "nbconvert_exporter": "python",
   "pygments_lexer": "ipython3",
   "version": "3.5.2"
  }
 },
 "nbformat": 4,
 "nbformat_minor": 0
}
